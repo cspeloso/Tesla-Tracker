{
 "cells": [
  {
   "cell_type": "code",
   "execution_count": 4,
   "id": "4885f785",
   "metadata": {},
   "outputs": [],
   "source": [
    "import tesla_price_watcher"
   ]
  }
 ],
 "metadata": {
  "kernelspec": {
   "display_name": "Python 3",
   "language": "python",
   "name": "python3"
  },
  "language_info": {
   "codemirror_mode": {
    "name": "ipython",
    "version": 3
   },
   "file_extension": ".py",
   "mimetype": "text/x-python",
   "name": "python",
   "nbconvert_exporter": "python",
   "pygments_lexer": "ipython3",
   "version": "3.6.15"
  }
 },
 "nbformat": 4,
 "nbformat_minor": 5
}
